{
 "cells": [
  {
   "cell_type": "markdown",
   "metadata": {},
   "source": [
    "### Mis-Spelling"
   ]
  },
  {
   "cell_type": "code",
   "execution_count": 8,
   "metadata": {},
   "outputs": [],
   "source": [
    "# import the pyenchant lib for mis-spelling\n",
    "import enchant\n",
    "import pandas as pd\n",
    "import numpy as np\n",
    "\n",
    "# combine the new words(hashtages) that got form social medias into dictionary\n",
    "d2 = enchant.DictWithPWL(\"en_US\",\"misspell3.txt\")\n",
    "\n",
    "# function for input the mis-spelling word and output the suggest word\n",
    "def mis(name):\n",
    "    out= d2.suggest(name)\n",
    "    if len(out) !=5:\n",
    "        for x in range(len(out),5):\n",
    "            out.insert(x, None)\n",
    "    return out\n",
    "\n",
    "mis_data=pd.DataFrame()\n",
    "for x in range(0,len(tags),1):\n",
    "    a=mis(tags.iat[x,0])\n",
    "    zz=pd.DataFrame(np.column_stack([tags.iat[x,0],a[0],a[1],a[2],a[3],a[4]]))\n",
    "    mis_data=mis_data.append(zz) \n",
    "\n",
    "# output the mis-spelling table\n",
    "tags = pd.read_csv(\"misspell3.csv\")\n"
   ]
  },
  {
   "cell_type": "code",
   "execution_count": 9,
   "metadata": {},
   "outputs": [],
   "source": [
    "# Re-arrange the columns, index\n",
    "mis_data.columns =['Tags','Mis1','Mis2','Mis3','Mis4','Mis5']\n",
    "mis_data.insert(0, 'id', range(1,len(mis_data)+1))\n",
    "mis_data.index = range(0,len(mis_data))"
   ]
  },
  {
   "cell_type": "code",
   "execution_count": 10,
   "metadata": {},
   "outputs": [
    {
     "data": {
      "text/html": [
       "<div>\n",
       "<style scoped>\n",
       "    .dataframe tbody tr th:only-of-type {\n",
       "        vertical-align: middle;\n",
       "    }\n",
       "\n",
       "    .dataframe tbody tr th {\n",
       "        vertical-align: top;\n",
       "    }\n",
       "\n",
       "    .dataframe thead th {\n",
       "        text-align: right;\n",
       "    }\n",
       "</style>\n",
       "<table border=\"1\" class=\"dataframe\">\n",
       "  <thead>\n",
       "    <tr style=\"text-align: right;\">\n",
       "      <th></th>\n",
       "      <th>id</th>\n",
       "      <th>Tags</th>\n",
       "      <th>Mis1</th>\n",
       "      <th>Mis2</th>\n",
       "      <th>Mis3</th>\n",
       "      <th>Mis4</th>\n",
       "      <th>Mis5</th>\n",
       "    </tr>\n",
       "  </thead>\n",
       "  <tbody>\n",
       "    <tr>\n",
       "      <th>0</th>\n",
       "      <td>1</td>\n",
       "      <td>marchmadness</td>\n",
       "      <td>march madness</td>\n",
       "      <td>marchioness</td>\n",
       "      <td>madness</td>\n",
       "      <td>manifoldness</td>\n",
       "      <td>marshiness</td>\n",
       "    </tr>\n",
       "    <tr>\n",
       "      <th>1</th>\n",
       "      <td>2</td>\n",
       "      <td>beststeakhousehandsdown</td>\n",
       "      <td>steakhouse</td>\n",
       "      <td>beststeakhousehandsdown</td>\n",
       "      <td>None</td>\n",
       "      <td>None</td>\n",
       "      <td>None</td>\n",
       "    </tr>\n",
       "    <tr>\n",
       "      <th>2</th>\n",
       "      <td>3</td>\n",
       "      <td>historic</td>\n",
       "      <td>historic</td>\n",
       "      <td>None</td>\n",
       "      <td>None</td>\n",
       "      <td>None</td>\n",
       "      <td>None</td>\n",
       "    </tr>\n",
       "    <tr>\n",
       "      <th>3</th>\n",
       "      <td>4</td>\n",
       "      <td>str8up</td>\n",
       "      <td>strumpet</td>\n",
       "      <td>Strauss</td>\n",
       "      <td>struck</td>\n",
       "      <td>strung</td>\n",
       "      <td>str8up</td>\n",
       "    </tr>\n",
       "    <tr>\n",
       "      <th>4</th>\n",
       "      <td>5</td>\n",
       "      <td>detroitbasketball</td>\n",
       "      <td>basketball</td>\n",
       "      <td>detroitbasketball</td>\n",
       "      <td>None</td>\n",
       "      <td>None</td>\n",
       "      <td>None</td>\n",
       "    </tr>\n",
       "  </tbody>\n",
       "</table>\n",
       "</div>"
      ],
      "text/plain": [
       "   id                     Tags           Mis1                     Mis2  \\\n",
       "0   1             marchmadness  march madness              marchioness   \n",
       "1   2  beststeakhousehandsdown     steakhouse  beststeakhousehandsdown   \n",
       "2   3                 historic       historic                     None   \n",
       "3   4                   str8up       strumpet                  Strauss   \n",
       "4   5        detroitbasketball     basketball        detroitbasketball   \n",
       "\n",
       "      Mis3          Mis4        Mis5  \n",
       "0  madness  manifoldness  marshiness  \n",
       "1     None          None        None  \n",
       "2     None          None        None  \n",
       "3   struck        strung      str8up  \n",
       "4     None          None        None  "
      ]
     },
     "execution_count": 10,
     "metadata": {},
     "output_type": "execute_result"
    }
   ],
   "source": [
    "mis_data.head(5)"
   ]
  },
  {
   "cell_type": "code",
   "execution_count": 11,
   "metadata": {},
   "outputs": [],
   "source": [
    "# export to file\n",
    "mis_data.to_csv('mis_data.csv',index=False)"
   ]
  },
  {
   "cell_type": "markdown",
   "metadata": {},
   "source": [
    "### Citations\n",
    "1. https://github.com/nikbearbrown/INFO_6210/blob/master/Week_2/NBB_IMDB_Web_Scraper.ipynb\n",
    "2. https://github.com/danielfrg/espn-nba-scrapy/blob/master/src/scrap/get_players.py\n",
    "3. http://www.gregreda.com/2015/02/15/web-scraping-finding-the-api/\n",
    "4. http://savvastjortjoglou.com/nba-shot-sharts.html\n",
    "5. https://faculty.math.illinois.edu/~gfrancis/illimath/windows/aszgard_mini/movpy-2.0.0-py2.4.4/manuals/PyEnchant/PyEnchant%20Tutorial.htm\n",
    "\n",
    "Data source links:  \n",
    "1. Youtube: http://www.youtube.com\n",
    "2. Instagram: https://www.instagram.com/\n",
    "3. Twitter: https://twitter.com/\n",
    "4. reddit: https://www.reddit.com/"
   ]
  },
  {
   "cell_type": "markdown",
   "metadata": {},
   "source": [
    "### Contribution\n",
    "This assignment is 95% done by my own, and 5% of the information and code that help me to do this assignment are from the Internet as the citations shown."
   ]
  },
  {
   "cell_type": "markdown",
   "metadata": {},
   "source": [
    "### License\n",
    "Copyright 2019 Chiung-Chih Lin\n",
    "\n",
    "Permission is hereby granted, free of charge, to any person obtaining a copy of this software and associated documentation files (the \"Software\"), to deal in the Software without restriction, including without limitation the rights to use, copy, modify, merge, publish, distribute, sublicense, and/or sell copies of the Software, and to permit persons to whom the Software is furnished to do so, subject to the following conditions:\n",
    "\n",
    "The above copyright notice and this permission notice shall be included in all copies or substantial portions of the Software.\n",
    "\n",
    "THE SOFTWARE IS PROVIDED \"AS IS\", WITHOUT WARRANTY OF ANY KIND, EXPRESS OR IMPLIED, INCLUDING BUT NOT LIMITED TO THE WARRANTIES OF MERCHANTABILITY, FITNESS FOR A PARTICULAR PURPOSE AND NONINFRINGEMENT. IN NO EVENT SHALL THE AUTHORS OR COPYRIGHT HOLDERS BE LIABLE FOR ANY CLAIM, DAMAGES OR OTHER LIABILITY, WHETHER IN AN ACTION OF CONTRACT, TORT OR OTHERWISE, ARISING FROM, OUT OF OR IN CONNECTION WITH THE SOFTWARE OR THE USE OR OTHER DEALINGS IN THE SOFTWARE."
   ]
  },
  {
   "cell_type": "code",
   "execution_count": null,
   "metadata": {},
   "outputs": [],
   "source": []
  }
 ],
 "metadata": {
  "kernelspec": {
   "display_name": "Python 3",
   "language": "python",
   "name": "python3"
  },
  "language_info": {
   "codemirror_mode": {
    "name": "ipython",
    "version": 3
   },
   "file_extension": ".py",
   "mimetype": "text/x-python",
   "name": "python",
   "nbconvert_exporter": "python",
   "pygments_lexer": "ipython3",
   "version": "3.7.1"
  }
 },
 "nbformat": 4,
 "nbformat_minor": 2
}
