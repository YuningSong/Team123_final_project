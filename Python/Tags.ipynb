{
 "cells": [
  {
   "cell_type": "markdown",
   "metadata": {},
   "source": [
    "## Find synonyms and build categories between tag lists"
   ]
  },
  {
   "cell_type": "markdown",
   "metadata": {},
   "source": [
    "### Make a test and build the function use wordnet.synsets"
   ]
  },
  {
   "cell_type": "code",
   "execution_count": 2,
   "metadata": {},
   "outputs": [
    {
     "name": "stdout",
     "output_type": "stream",
     "text": [
      "WORD: happy\n",
      "SENTENCE: ['I', 'am', 'glad', 'it', 'was', 'felicitous', '.']\n",
      "SYNONYMS FOR 'HAPPY' FOUND IN THE SENTENCE: felicitous, happy, glad, happy\n"
     ]
    }
   ],
   "source": [
    "from nltk.corpus import wordnet\n",
    "\n",
    "def get_word_synonyms_from_sent(word, sent):\n",
    "    word_synonyms = []\n",
    "    for synset in wordnet.synsets(word):\n",
    "        for lemma in synset.lemma_names():\n",
    "            if lemma in sent and lemma != word:\n",
    "                word_synonyms.append(lemma)\n",
    "                word_synonyms.append(word)\n",
    "    return word_synonyms\n",
    "\n",
    "word = \"happy\"\n",
    "sent = ['I', 'am', 'glad', 'it', 'was', 'felicitous', '.']\n",
    "word_synonyms = get_word_synonyms_from_sent(word, sent)\n",
    "print (\"WORD:\", word)\n",
    "print (\"SENTENCE:\", sent)\n",
    "print (\"SYNONYMS FOR '\" + word.upper() + \"' FOUND IN THE SENTENCE: \" + \", \".join(word_synonyms))"
   ]
  },
  {
   "cell_type": "code",
   "execution_count": 3,
   "metadata": {},
   "outputs": [
    {
     "name": "stderr",
     "output_type": "stream",
     "text": [
      "[nltk_data] Downloading package wordnet to\n",
      "[nltk_data]     /Users/yuningsong/nltk_data...\n",
      "[nltk_data]   Unzipping corpora/wordnet.zip.\n"
     ]
    },
    {
     "data": {
      "text/plain": [
       "True"
      ]
     },
     "execution_count": 3,
     "metadata": {},
     "output_type": "execute_result"
    }
   ],
   "source": [
    "import nltk\n",
    "nltk.download('wordnet')"
   ]
  },
  {
   "cell_type": "code",
   "execution_count": 3,
   "metadata": {},
   "outputs": [
    {
     "data": {
      "text/plain": [
       "['felicitous', 'glad']"
      ]
     },
     "execution_count": 3,
     "metadata": {},
     "output_type": "execute_result"
    }
   ],
   "source": [
    "word_synonyms"
   ]
  },
  {
   "cell_type": "markdown",
   "metadata": {},
   "source": [
    "### Load data"
   ]
  },
  {
   "cell_type": "code",
   "execution_count": 1,
   "metadata": {},
   "outputs": [],
   "source": [
    "import pandas as pd"
   ]
  },
  {
   "cell_type": "code",
   "execution_count": 2,
   "metadata": {},
   "outputs": [],
   "source": [
    "ig = pd.read_csv('ig_most.csv')"
   ]
  },
  {
   "cell_type": "code",
   "execution_count": 3,
   "metadata": {},
   "outputs": [],
   "source": [
    "ig_df = pd.DataFrame(ig)"
   ]
  },
  {
   "cell_type": "code",
   "execution_count": 4,
   "metadata": {},
   "outputs": [
    {
     "data": {
      "text/plain": [
       "Index(['id', 'Userid', 'tag1', 'tag2', 'tag3', 'tag4', 'tag5',\n",
       "       'Most_popular_post'],\n",
       "      dtype='object')"
      ]
     },
     "execution_count": 4,
     "metadata": {},
     "output_type": "execute_result"
    }
   ],
   "source": [
    "ig_df.columns"
   ]
  },
  {
   "cell_type": "code",
   "execution_count": 5,
   "metadata": {},
   "outputs": [],
   "source": [
    "twitter = pd.read_csv('twitter_most 1.csv')"
   ]
  },
  {
   "cell_type": "code",
   "execution_count": 6,
   "metadata": {},
   "outputs": [],
   "source": [
    "twitter_df = pd.DataFrame(twitter)"
   ]
  },
  {
   "cell_type": "code",
   "execution_count": 7,
   "metadata": {},
   "outputs": [
    {
     "data": {
      "text/plain": [
       "187"
      ]
     },
     "execution_count": 7,
     "metadata": {},
     "output_type": "execute_result"
    }
   ],
   "source": [
    "my_list = ig_df[\"tag1\"].tolist()\n",
    "len(my_list)"
   ]
  },
  {
   "cell_type": "code",
   "execution_count": 8,
   "metadata": {},
   "outputs": [
    {
     "data": {
      "text/plain": [
       "374"
      ]
     },
     "execution_count": 8,
     "metadata": {},
     "output_type": "execute_result"
    }
   ],
   "source": [
    "list2 =ig_df['tag2'].tolist()\n",
    "my_list.extend(list2)\n",
    "len(my_list)"
   ]
  },
  {
   "cell_type": "code",
   "execution_count": 11,
   "metadata": {},
   "outputs": [
    {
     "data": {
      "text/plain": [
       "935"
      ]
     },
     "execution_count": 11,
     "metadata": {},
     "output_type": "execute_result"
    }
   ],
   "source": [
    "list2 =ig_df['tag5'].tolist()\n",
    "my_list.extend(list2)\n",
    "len(my_list)"
   ]
  },
  {
   "cell_type": "code",
   "execution_count": 12,
   "metadata": {},
   "outputs": [],
   "source": [
    "igList = [x for x in my_list if str(x) != 'nan']"
   ]
  },
  {
   "cell_type": "code",
   "execution_count": 14,
   "metadata": {},
   "outputs": [
    {
     "data": {
      "text/plain": [
       "Index(['Unnamed: 0', 'userid', 'mostPopHashtag1', 'mostPopHashtag2',\n",
       "       'mostPopHashtag3', 'mostPopHashtag4', 'mostPopHashtag5', 'mostPopPost'],\n",
       "      dtype='object')"
      ]
     },
     "execution_count": 14,
     "metadata": {},
     "output_type": "execute_result"
    }
   ],
   "source": [
    "twitter_df.columns"
   ]
  },
  {
   "cell_type": "code",
   "execution_count": 15,
   "metadata": {},
   "outputs": [
    {
     "data": {
      "text/plain": [
       "229"
      ]
     },
     "execution_count": 15,
     "metadata": {},
     "output_type": "execute_result"
    }
   ],
   "source": [
    "my_list = twitter_df[\"mostPopHashtag1\"].tolist()\n",
    "len(my_list)"
   ]
  },
  {
   "cell_type": "code",
   "execution_count": 19,
   "metadata": {},
   "outputs": [
    {
     "data": {
      "text/plain": [
       "1145"
      ]
     },
     "execution_count": 19,
     "metadata": {},
     "output_type": "execute_result"
    }
   ],
   "source": [
    "list2 =twitter_df['mostPopHashtag4'].tolist()\n",
    "my_list.extend(list2)\n",
    "len(my_list)"
   ]
  },
  {
   "cell_type": "code",
   "execution_count": 20,
   "metadata": {},
   "outputs": [],
   "source": [
    "twitterList = [x for x in my_list if str(x) != 'nan']"
   ]
  },
  {
   "cell_type": "code",
   "execution_count": 21,
   "metadata": {},
   "outputs": [
    {
     "data": {
      "text/plain": [
       "1145"
      ]
     },
     "execution_count": 21,
     "metadata": {},
     "output_type": "execute_result"
    }
   ],
   "source": [
    "len(twitterList)"
   ]
  },
  {
   "cell_type": "markdown",
   "metadata": {},
   "source": [
    "### Find synonyms"
   ]
  },
  {
   "cell_type": "code",
   "execution_count": 56,
   "metadata": {},
   "outputs": [
    {
     "name": "stdout",
     "output_type": "stream",
     "text": [
      "[[], [], [], [], [], [], [], [], [], [], [], [], [], [], [], [], [], [], [], [], [], [], [], [], [], [], [], [], [], [], [], [], [], [], [], [], [], [], [], [], [], [], [], [], [], [], [], [], [], [], [], [], [], [], [], [], [], [], [], [], [], [], [], [], [], [], [], [], [], ['AD', 'ad'], [], [], [], [], [], [], [], [], [], [], [], [], [], [], [], [], [], [], [], [], [], [], [], [], [], [], [], [], ['AD', 'ad'], [], [], [], [], [], [], ['AD', 'ad'], [], [], [], [], [], [], [], [], [], [], [], [], [], [], [], [], [], [], [], [], [], [], [], [], [], [], [], [], [], [], [], ['AD', 'ad'], [], [], [], [], [], [], [], [], [], [], [], [], [], [], [], [], [], [], [], [], [], ['AD', 'ad'], [], [], [], [], [], [], [], [], [], [], [], [], [], [], [], [], [], [], [], ['AD', 'ad'], [], [], [], [], [], [], [], [], [], [], [], [], [], [], ['AD', 'ad'], [], [], [], [], [], [], [], [], ['Blessed', 'blessed'], [], [], [], [], [], [], [], ['AD', 'ad'], [], [], [], [], [], [], [], [], [], [], [], [], [], [], [], [], [], [], [], [], [], [], [], [], [], [], [], [], [], [], [], [], [], [], [], [], [], [], [], [], [], [], [], [], [], [], [], [], [], [], [], [], [], [], [], [], [], [], [], [], [], [], [], [], [], [], [], [], [], [], [], [], [], [], [], [], [], [], [], [], [], [], [], [], [], [], [], [], ['Blessed', 'blessed'], [], [], [], [], [], ['AD', 'ad'], [], ['Blessed', 'blessed'], [], [], [], ['AD', 'ad'], [], [], [], [], [], [], [], [], [], [], [], [], [], [], [], [], [], [], [], [], [], [], [], [], [], [], ['Blessed', 'blessed'], [], [], [], [], [], [], [], [], [], [], [], [], [], [], [], [], [], []]\n"
     ]
    }
   ],
   "source": [
    "list1 = []\n",
    "for ig in igList:\n",
    "    synlist = get_word_synonyms_from_sent(ig,twitterList)\n",
    "    list1.append(synlist)\n",
    "print(list1)"
   ]
  },
  {
   "cell_type": "code",
   "execution_count": 47,
   "metadata": {},
   "outputs": [
    {
     "data": {
      "text/plain": [
       "358"
      ]
     },
     "execution_count": 47,
     "metadata": {},
     "output_type": "execute_result"
    }
   ],
   "source": [
    "len(list1)"
   ]
  },
  {
   "cell_type": "code",
   "execution_count": 50,
   "metadata": {},
   "outputs": [
    {
     "data": {
      "text/plain": [
       "['AD']"
      ]
     },
     "execution_count": 50,
     "metadata": {},
     "output_type": "execute_result"
    }
   ],
   "source": [
    "sys = get_word_synonyms_from_sent('ad',twitterList)\n",
    "sys"
   ]
  },
  {
   "cell_type": "code",
   "execution_count": 53,
   "metadata": {},
   "outputs": [],
   "source": [
    "finalList = [x for x in list1 if x != []]"
   ]
  },
  {
   "cell_type": "code",
   "execution_count": 54,
   "metadata": {},
   "outputs": [
    {
     "data": {
      "text/plain": [
       "[['AD'],\n",
       " ['AD'],\n",
       " ['AD'],\n",
       " ['AD'],\n",
       " ['AD'],\n",
       " ['AD'],\n",
       " ['AD'],\n",
       " ['Blessed'],\n",
       " ['AD'],\n",
       " ['Blessed'],\n",
       " ['AD'],\n",
       " ['Blessed'],\n",
       " ['AD'],\n",
       " ['Blessed']]"
      ]
     },
     "execution_count": 54,
     "metadata": {},
     "output_type": "execute_result"
    }
   ],
   "source": [
    "finalList"
   ]
  },
  {
   "cell_type": "code",
   "execution_count": 22,
   "metadata": {},
   "outputs": [],
   "source": [
    "igList.extend(twitterList)"
   ]
  },
  {
   "cell_type": "code",
   "execution_count": 23,
   "metadata": {},
   "outputs": [
    {
     "data": {
      "text/plain": [
       "1503"
      ]
     },
     "execution_count": 23,
     "metadata": {},
     "output_type": "execute_result"
    }
   ],
   "source": [
    "len(igList)"
   ]
  },
  {
   "cell_type": "code",
   "execution_count": 25,
   "metadata": {},
   "outputs": [],
   "source": [
    "import nltk"
   ]
  },
  {
   "cell_type": "code",
   "execution_count": 70,
   "metadata": {},
   "outputs": [],
   "source": [
    "text = nltk.Text(word.lower() for word in igList)"
   ]
  },
  {
   "cell_type": "code",
   "execution_count": 75,
   "metadata": {},
   "outputs": [
    {
     "name": "stdout",
     "output_type": "stream",
     "text": [
      "<Text: risetogether marchmadness beststeakhousehandsdown historic str8up detroitbasketball ripnipthegreat risetogether...>\n"
     ]
    }
   ],
   "source": [
    "print(text)"
   ]
  },
  {
   "cell_type": "markdown",
   "metadata": {},
   "source": [
    "### make a category of every tag"
   ]
  },
  {
   "cell_type": "code",
   "execution_count": 26,
   "metadata": {},
   "outputs": [],
   "source": [
    "from nltk import word_tokenize\n",
    "cate = []\n",
    "for x in igList:\n",
    "    text1 = word_tokenize(x)\n",
    "    cate.append(nltk.pos_tag(text1))"
   ]
  },
  {
   "cell_type": "code",
   "execution_count": 27,
   "metadata": {},
   "outputs": [
    {
     "data": {
      "text/plain": [
       "list"
      ]
     },
     "execution_count": 27,
     "metadata": {},
     "output_type": "execute_result"
    }
   ],
   "source": [
    "type(cate)"
   ]
  },
  {
   "cell_type": "code",
   "execution_count": 33,
   "metadata": {},
   "outputs": [
    {
     "data": {
      "text/plain": [
       "'NN'"
      ]
     },
     "execution_count": 33,
     "metadata": {},
     "output_type": "execute_result"
    }
   ],
   "source": [
    "cate[0][0][1]"
   ]
  },
  {
   "cell_type": "code",
   "execution_count": null,
   "metadata": {},
   "outputs": [],
   "source": [
    "cate1 = []\n",
    "for x in cate:\n",
    "    cate1.append(x[0][1])\n",
    "cate1"
   ]
  },
  {
   "cell_type": "code",
   "execution_count": 37,
   "metadata": {},
   "outputs": [],
   "source": [
    "def CountFrequency(my_list): \n",
    "  \n",
    "    # Creating an empty dictionary  \n",
    "    freq = {} \n",
    "    for item in my_list: \n",
    "        if (item in freq): \n",
    "            freq[item] += 1\n",
    "        else: \n",
    "            freq[item] = 1\n",
    "  \n",
    "    for key, value in freq.items(): \n",
    "        print (\"% s : % s\"%(key, value)) \n",
    "  "
   ]
  },
  {
   "cell_type": "code",
   "execution_count": 38,
   "metadata": {},
   "outputs": [
    {
     "name": "stdout",
     "output_type": "stream",
     "text": [
      "NN : 1198\n",
      "NNS : 156\n",
      "CD : 29\n",
      "JJ : 26\n",
      "RB : 28\n",
      "VBN : 25\n",
      "VBG : 5\n",
      "NNP : 20\n",
      "IN : 10\n",
      "VB : 3\n",
      "JJS : 3\n"
     ]
    }
   ],
   "source": [
    "CountFrequency(cate1)"
   ]
  },
  {
   "cell_type": "markdown",
   "metadata": {},
   "source": [
    "### move every tag to list according to its tag"
   ]
  },
  {
   "cell_type": "code",
   "execution_count": 28,
   "metadata": {},
   "outputs": [],
   "source": [
    "noun = []\n",
    "noun_plural=[]\n",
    "cardinal_digit = []\n",
    "adj = []\n",
    "adverb = []\n",
    "verb_pas= []\n",
    "verb_pre= []\n",
    "proper_noun = []\n",
    "preposition = []\n",
    "verb = []\n",
    "jjs = []\n",
    "\n",
    "for x in cate:\n",
    "    if x[0][1]=='NN':\n",
    "        noun.append(x[0][0])\n",
    "    elif x[0][1]=='NNS':\n",
    "        noun_plural.append(x[0][0])\n",
    "    elif x[0][1]=='CD':\n",
    "        cardinal_digit.append(x[0][0])\n",
    "    elif x[0][1]=='JJ':\n",
    "        adj.append(x[0][0])\n",
    "    elif x[0][1]=='RB':\n",
    "        adverb.append(x[0][0])\n",
    "    elif x[0][1]=='VBN':\n",
    "        verb_pas.append(x[0][0])\n",
    "    elif x[0][1]=='VBG':\n",
    "        verb_pre.append(x[0][0])\n",
    "    elif x[0][1]=='NNP':\n",
    "        proper_noun.append(x[0][0])\n",
    "    elif x[0][1]=='IN':\n",
    "        preposition.append(x[0][0])\n",
    "    elif x[0][1]=='VB':\n",
    "        verb.append(x[0][0])\n",
    "    elif x[0][1]=='JJS':\n",
    "        jjs.append(x[0][0])\n",
    "    else :\n",
    "        continue\n"
   ]
  },
  {
   "cell_type": "code",
   "execution_count": 29,
   "metadata": {},
   "outputs": [],
   "source": [
    "noun = noun[:10]\n",
    "\n",
    "noun_plural=noun_plural[:10]\n",
    "cardinal_digit = cardinal_digit[:10]\n",
    "adj = adj[:10]\n",
    "adverb = adverb[:10]\n",
    "verb_pas= verb_pas[:10]\n",
    "verb_pre= verb_pre[:10]\n",
    "proper_noun = proper_noun[:10]\n",
    "preposition = preposition[:10]\n",
    "\n",
    "jjs = verb_pre[:10]"
   ]
  },
  {
   "cell_type": "markdown",
   "metadata": {},
   "source": [
    "### because different list have differnt length so we move the tags into one single list"
   ]
  },
  {
   "cell_type": "code",
   "execution_count": 50,
   "metadata": {},
   "outputs": [],
   "source": [
    "noun1 = ''\n",
    "for x in noun:\n",
    "    if noun1 == '':\n",
    "        noun1 = noun1+x\n",
    "    else:\n",
    "        noun1= noun1+','+x"
   ]
  },
  {
   "cell_type": "code",
   "execution_count": 51,
   "metadata": {},
   "outputs": [
    {
     "data": {
      "text/plain": [
       "'risetogether,marchmadness,beststeakhousehandsdown,historic,str8up,detroitbasketball,ripnipthegreat,risetogether,airforce1,glorytogod,detroitbasketball,golddontquit,retirement,menhaveskintoo,tmc,tgbtg,happyeaster,holdat,legacy,unfinishedbusiness,ripcity,repost,tbt,puremagic,dame5,gameday,gobeyond,theresurgence,teamcarroll,bravesareback'"
      ]
     },
     "execution_count": 51,
     "metadata": {},
     "output_type": "execute_result"
    }
   ],
   "source": [
    "noun1"
   ]
  },
  {
   "cell_type": "code",
   "execution_count": 52,
   "metadata": {},
   "outputs": [],
   "source": [
    "final = []\n",
    "final.append(noun1)"
   ]
  },
  {
   "cell_type": "code",
   "execution_count": 54,
   "metadata": {},
   "outputs": [],
   "source": [
    "noun_plural1 = ''\n",
    "for x in noun_plural:\n",
    "    if noun_plural1 == '':\n",
    "        noun_plural1 = noun_plural1+x\n",
    "    else:\n",
    "        noun_plural1= noun_plural1+','+x"
   ]
  },
  {
   "cell_type": "code",
   "execution_count": 55,
   "metadata": {},
   "outputs": [],
   "source": [
    "final.append(noun_plural1)"
   ]
  },
  {
   "cell_type": "code",
   "execution_count": 56,
   "metadata": {},
   "outputs": [],
   "source": [
    "cardinal_digit1 = ''\n",
    "for x in cardinal_digit:\n",
    "    if cardinal_digit1 == '':\n",
    "        cardinal_digit1 = cardinal_digit1+x\n",
    "    else:\n",
    "        cardinal_digit1= cardinal_digit1+','+x\n",
    "final.append(cardinal_digit1)"
   ]
  },
  {
   "cell_type": "code",
   "execution_count": 57,
   "metadata": {},
   "outputs": [],
   "source": [
    "adj1 = ''\n",
    "for x in adj:\n",
    "    if adj1 == '':\n",
    "        adj1 = adj1+x\n",
    "    else:\n",
    "        adj1= adj1+','+x\n",
    "final.append(adj1)"
   ]
  },
  {
   "cell_type": "code",
   "execution_count": 64,
   "metadata": {},
   "outputs": [],
   "source": [
    "verb1 = ''\n",
    "for x in verb:\n",
    "    if verb1 == '':\n",
    "        verb1 = verb1+x\n",
    "    else:\n",
    "        verb1= verb1+','+x\n",
    "final.append(verb1)"
   ]
  },
  {
   "cell_type": "code",
   "execution_count": 65,
   "metadata": {},
   "outputs": [],
   "source": [
    "category = (\"Noun\":noun,\n",
    "                \"Noun_plural\":noun_plural,\n",
    "                        \"cardinal_digit\":cardinal_digit,\n",
    "                        \"adjective\":adj,\n",
    "                        \"adverb\":adverb,\n",
    "                        \"verb_gerund\":verb_pre,\n",
    "                        \"proper_noun\":proper_noun,\n",
    "                        \"prepositon\":preposition,\n",
    "                        \"verb_past\":verb_pas,\n",
    "                        'adjective_super':jjs\n",
    "                    )\n"
   ]
  },
  {
   "cell_type": "code",
   "execution_count": 66,
   "metadata": {},
   "outputs": [
    {
     "data": {
      "text/plain": [
       "11"
      ]
     },
     "execution_count": 66,
     "metadata": {},
     "output_type": "execute_result"
    }
   ],
   "source": [
    "len(category)\n"
   ]
  },
  {
   "cell_type": "code",
   "execution_count": 34,
   "metadata": {},
   "outputs": [
    {
     "data": {
      "text/plain": [
       "3"
      ]
     },
     "execution_count": 34,
     "metadata": {},
     "output_type": "execute_result"
    }
   ],
   "source": [
    "len(verb)"
   ]
  },
  {
   "cell_type": "code",
   "execution_count": 35,
   "metadata": {},
   "outputs": [
    {
     "data": {
      "text/html": [
       "<div>\n",
       "<style scoped>\n",
       "    .dataframe tbody tr th:only-of-type {\n",
       "        vertical-align: middle;\n",
       "    }\n",
       "\n",
       "    .dataframe tbody tr th {\n",
       "        vertical-align: top;\n",
       "    }\n",
       "\n",
       "    .dataframe thead th {\n",
       "        text-align: right;\n",
       "    }\n",
       "</style>\n",
       "<table border=\"1\" class=\"dataframe\">\n",
       "  <thead>\n",
       "    <tr style=\"text-align: right;\">\n",
       "      <th></th>\n",
       "      <th>Noun</th>\n",
       "      <th>Noun_plural</th>\n",
       "      <th>cardinal_digit</th>\n",
       "      <th>adjective</th>\n",
       "      <th>adverb</th>\n",
       "      <th>proper_noun</th>\n",
       "      <th>prepositon</th>\n",
       "      <th>verb_past</th>\n",
       "    </tr>\n",
       "  </thead>\n",
       "  <tbody>\n",
       "    <tr>\n",
       "      <th>0</th>\n",
       "      <td>risetogether</td>\n",
       "      <td>nbaplayoffs</td>\n",
       "      <td>20onpump2</td>\n",
       "      <td>unleashthemanimal</td>\n",
       "      <td>onlyupfromhere</td>\n",
       "      <td>Gemini</td>\n",
       "      <td>NeverEnough</td>\n",
       "      <td>sponsored</td>\n",
       "    </tr>\n",
       "    <tr>\n",
       "      <th>1</th>\n",
       "      <td>marchmadness</td>\n",
       "      <td>spurs</td>\n",
       "      <td>13yearsandout</td>\n",
       "      <td>nbatwitterlive</td>\n",
       "      <td>carolinafamily</td>\n",
       "      <td>HeIsRisen</td>\n",
       "      <td>Underground</td>\n",
       "      <td>blessed</td>\n",
       "    </tr>\n",
       "    <tr>\n",
       "      <th>2</th>\n",
       "      <td>beststeakhousehandsdown</td>\n",
       "      <td>shesaidyes</td>\n",
       "      <td>6</td>\n",
       "      <td>unleaded</td>\n",
       "      <td>teamprogressiondaily</td>\n",
       "      <td>GloryToGod</td>\n",
       "      <td>Underground</td>\n",
       "      <td>sponsored</td>\n",
       "    </tr>\n",
       "    <tr>\n",
       "      <th>3</th>\n",
       "      <td>historic</td>\n",
       "      <td>madukes</td>\n",
       "      <td>5thmaster</td>\n",
       "      <td>NBATwitterLive</td>\n",
       "      <td>sponsoredobviously</td>\n",
       "      <td>Kobe4</td>\n",
       "      <td>from</td>\n",
       "      <td>blessed</td>\n",
       "    </tr>\n",
       "    <tr>\n",
       "      <th>4</th>\n",
       "      <td>str8up</td>\n",
       "      <td>gobucks</td>\n",
       "      <td>5minutesfromhome</td>\n",
       "      <td>UnleashTheManimal</td>\n",
       "      <td>liningfamily</td>\n",
       "      <td>BBN</td>\n",
       "      <td>from</td>\n",
       "      <td>blessed</td>\n",
       "    </tr>\n",
       "    <tr>\n",
       "      <th>5</th>\n",
       "      <td>detroitbasketball</td>\n",
       "      <td>teaguetuesdays</td>\n",
       "      <td>94</td>\n",
       "      <td>NBATwitterLive</td>\n",
       "      <td>spanishfamily</td>\n",
       "      <td>BBN</td>\n",
       "      <td>from</td>\n",
       "      <td>blessed</td>\n",
       "    </tr>\n",
       "    <tr>\n",
       "      <th>6</th>\n",
       "      <td>ripnipthegreat</td>\n",
       "      <td>bigfacts</td>\n",
       "      <td>7yearsyoung</td>\n",
       "      <td>uncommon</td>\n",
       "      <td>literally</td>\n",
       "      <td>BBN</td>\n",
       "      <td>from</td>\n",
       "      <td>staytuned</td>\n",
       "    </tr>\n",
       "    <tr>\n",
       "      <th>7</th>\n",
       "      <td>risetogether</td>\n",
       "      <td>60wins</td>\n",
       "      <td>10</td>\n",
       "      <td>FREE</td>\n",
       "      <td>grinddaily</td>\n",
       "      <td>HeIsRisen</td>\n",
       "      <td>FacebookDown</td>\n",
       "      <td>MostHated</td>\n",
       "    </tr>\n",
       "    <tr>\n",
       "      <th>8</th>\n",
       "      <td>airforce1</td>\n",
       "      <td>iguazufalls</td>\n",
       "      <td>3</td>\n",
       "      <td>NbaTwitterLive</td>\n",
       "      <td>spursfamily</td>\n",
       "      <td>BetterEveryDay</td>\n",
       "      <td>BearDown</td>\n",
       "      <td>MostHated</td>\n",
       "    </tr>\n",
       "    <tr>\n",
       "      <th>9</th>\n",
       "      <td>glorytogod</td>\n",
       "      <td>playoffs</td>\n",
       "      <td>22</td>\n",
       "      <td>global</td>\n",
       "      <td>spursfamily</td>\n",
       "      <td>LigaEndesa</td>\n",
       "      <td>WhatsappDown</td>\n",
       "      <td>pressureapplied</td>\n",
       "    </tr>\n",
       "  </tbody>\n",
       "</table>\n",
       "</div>"
      ],
      "text/plain": [
       "                      Noun     Noun_plural    cardinal_digit  \\\n",
       "0             risetogether     nbaplayoffs         20onpump2   \n",
       "1             marchmadness           spurs     13yearsandout   \n",
       "2  beststeakhousehandsdown      shesaidyes                 6   \n",
       "3                 historic         madukes         5thmaster   \n",
       "4                   str8up         gobucks  5minutesfromhome   \n",
       "5        detroitbasketball  teaguetuesdays                94   \n",
       "6           ripnipthegreat        bigfacts       7yearsyoung   \n",
       "7             risetogether          60wins                10   \n",
       "8                airforce1     iguazufalls                 3   \n",
       "9               glorytogod        playoffs                22   \n",
       "\n",
       "           adjective                adverb     proper_noun    prepositon  \\\n",
       "0  unleashthemanimal        onlyupfromhere          Gemini   NeverEnough   \n",
       "1     nbatwitterlive        carolinafamily       HeIsRisen   Underground   \n",
       "2           unleaded  teamprogressiondaily      GloryToGod   Underground   \n",
       "3     NBATwitterLive    sponsoredobviously           Kobe4          from   \n",
       "4  UnleashTheManimal          liningfamily             BBN          from   \n",
       "5     NBATwitterLive         spanishfamily             BBN          from   \n",
       "6           uncommon             literally             BBN          from   \n",
       "7               FREE            grinddaily       HeIsRisen  FacebookDown   \n",
       "8     NbaTwitterLive           spursfamily  BetterEveryDay      BearDown   \n",
       "9             global           spursfamily      LigaEndesa  WhatsappDown   \n",
       "\n",
       "         verb_past  \n",
       "0        sponsored  \n",
       "1          blessed  \n",
       "2        sponsored  \n",
       "3          blessed  \n",
       "4          blessed  \n",
       "5          blessed  \n",
       "6        staytuned  \n",
       "7        MostHated  \n",
       "8        MostHated  \n",
       "9  pressureapplied  "
      ]
     },
     "execution_count": 35,
     "metadata": {},
     "output_type": "execute_result"
    }
   ],
   "source": [
    "import pandas as pd\n",
    "test_df = pd.DataFrame({\"Noun\":noun,\n",
    "                \"Noun_plural\":noun_plural,\n",
    "                        \"cardinal_digit\":cardinal_digit,\n",
    "                        \"adjective\":adj,\n",
    "                        \"adverb\":adverb,\n",
    "                \n",
    "                        \"proper_noun\":proper_noun,\n",
    "                        \"prepositon\":preposition,\n",
    "                        \"verb_past\":verb_pas,\n",
    "                        })\n",
    "test_df"
   ]
  },
  {
   "cell_type": "code",
   "execution_count": 72,
   "metadata": {},
   "outputs": [
    {
     "data": {
      "text/html": [
       "<div>\n",
       "<style scoped>\n",
       "    .dataframe tbody tr th:only-of-type {\n",
       "        vertical-align: middle;\n",
       "    }\n",
       "\n",
       "    .dataframe tbody tr th {\n",
       "        vertical-align: top;\n",
       "    }\n",
       "\n",
       "    .dataframe thead th {\n",
       "        text-align: right;\n",
       "    }\n",
       "</style>\n",
       "<table border=\"1\" class=\"dataframe\">\n",
       "  <thead>\n",
       "    <tr style=\"text-align: right;\">\n",
       "      <th></th>\n",
       "      <th>Initail hashtag</th>\n",
       "      <th>Tags</th>\n",
       "    </tr>\n",
       "  </thead>\n",
       "  <tbody>\n",
       "    <tr>\n",
       "      <th>0</th>\n",
       "      <td>[AD]</td>\n",
       "      <td>[AD]</td>\n",
       "    </tr>\n",
       "    <tr>\n",
       "      <th>1</th>\n",
       "      <td>[AD]</td>\n",
       "      <td>[AD]</td>\n",
       "    </tr>\n",
       "    <tr>\n",
       "      <th>2</th>\n",
       "      <td>[AD]</td>\n",
       "      <td>[AD]</td>\n",
       "    </tr>\n",
       "    <tr>\n",
       "      <th>3</th>\n",
       "      <td>[AD]</td>\n",
       "      <td>[AD]</td>\n",
       "    </tr>\n",
       "    <tr>\n",
       "      <th>4</th>\n",
       "      <td>[AD]</td>\n",
       "      <td>[AD]</td>\n",
       "    </tr>\n",
       "    <tr>\n",
       "      <th>5</th>\n",
       "      <td>[AD]</td>\n",
       "      <td>[AD]</td>\n",
       "    </tr>\n",
       "    <tr>\n",
       "      <th>6</th>\n",
       "      <td>[AD]</td>\n",
       "      <td>[AD]</td>\n",
       "    </tr>\n",
       "    <tr>\n",
       "      <th>7</th>\n",
       "      <td>[Blessed]</td>\n",
       "      <td>[Blessed]</td>\n",
       "    </tr>\n",
       "    <tr>\n",
       "      <th>8</th>\n",
       "      <td>[AD]</td>\n",
       "      <td>[AD]</td>\n",
       "    </tr>\n",
       "    <tr>\n",
       "      <th>9</th>\n",
       "      <td>[Blessed]</td>\n",
       "      <td>[Blessed]</td>\n",
       "    </tr>\n",
       "    <tr>\n",
       "      <th>10</th>\n",
       "      <td>[AD]</td>\n",
       "      <td>[AD]</td>\n",
       "    </tr>\n",
       "    <tr>\n",
       "      <th>11</th>\n",
       "      <td>[Blessed]</td>\n",
       "      <td>[Blessed]</td>\n",
       "    </tr>\n",
       "    <tr>\n",
       "      <th>12</th>\n",
       "      <td>[AD]</td>\n",
       "      <td>[AD]</td>\n",
       "    </tr>\n",
       "    <tr>\n",
       "      <th>13</th>\n",
       "      <td>[Blessed]</td>\n",
       "      <td>[Blessed]</td>\n",
       "    </tr>\n",
       "  </tbody>\n",
       "</table>\n",
       "</div>"
      ],
      "text/plain": [
       "   Initail hashtag       Tags\n",
       "0             [AD]       [AD]\n",
       "1             [AD]       [AD]\n",
       "2             [AD]       [AD]\n",
       "3             [AD]       [AD]\n",
       "4             [AD]       [AD]\n",
       "5             [AD]       [AD]\n",
       "6             [AD]       [AD]\n",
       "7        [Blessed]  [Blessed]\n",
       "8             [AD]       [AD]\n",
       "9        [Blessed]  [Blessed]\n",
       "10            [AD]       [AD]\n",
       "11       [Blessed]  [Blessed]\n",
       "12            [AD]       [AD]\n",
       "13       [Blessed]  [Blessed]"
      ]
     },
     "execution_count": 72,
     "metadata": {},
     "output_type": "execute_result"
    }
   ],
   "source": [
    "import pandas as pd\n",
    "test_df1 = pd.DataFrame({\"Initail hashtag\":finalList,\n",
    "                        \"Tags\":finalList,\n",
    "                        })\n",
    "test_df1"
   ]
  },
  {
   "cell_type": "code",
   "execution_count": 71,
   "metadata": {},
   "outputs": [],
   "source": [
    "finalList=[['AD'],\n",
    " ['AD'],\n",
    " ['AD'],\n",
    " ['AD'],\n",
    " ['AD'],\n",
    " ['AD'],\n",
    " ['AD'],\n",
    " ['Blessed'],\n",
    " ['AD'],\n",
    " ['Blessed'],\n",
    " ['AD'],\n",
    " ['Blessed'],\n",
    " ['AD'],\n",
    " ['Blessed']]"
   ]
  },
  {
   "cell_type": "code",
   "execution_count": 73,
   "metadata": {},
   "outputs": [
    {
     "data": {
      "text/html": [
       "<div>\n",
       "<style scoped>\n",
       "    .dataframe tbody tr th:only-of-type {\n",
       "        vertical-align: middle;\n",
       "    }\n",
       "\n",
       "    .dataframe tbody tr th {\n",
       "        vertical-align: top;\n",
       "    }\n",
       "\n",
       "    .dataframe thead th {\n",
       "        text-align: right;\n",
       "    }\n",
       "</style>\n",
       "<table border=\"1\" class=\"dataframe\">\n",
       "  <thead>\n",
       "    <tr style=\"text-align: right;\">\n",
       "      <th></th>\n",
       "      <th>Initail hashtag</th>\n",
       "    </tr>\n",
       "  </thead>\n",
       "  <tbody>\n",
       "    <tr>\n",
       "      <th>0</th>\n",
       "      <td>risetogether</td>\n",
       "    </tr>\n",
       "    <tr>\n",
       "      <th>1</th>\n",
       "      <td>marchmadness</td>\n",
       "    </tr>\n",
       "    <tr>\n",
       "      <th>2</th>\n",
       "      <td>beststeakhousehandsdown</td>\n",
       "    </tr>\n",
       "    <tr>\n",
       "      <th>3</th>\n",
       "      <td>historic</td>\n",
       "    </tr>\n",
       "    <tr>\n",
       "      <th>4</th>\n",
       "      <td>str8up</td>\n",
       "    </tr>\n",
       "    <tr>\n",
       "      <th>5</th>\n",
       "      <td>detroitbasketball</td>\n",
       "    </tr>\n",
       "    <tr>\n",
       "      <th>6</th>\n",
       "      <td>ripnipthegreat</td>\n",
       "    </tr>\n",
       "    <tr>\n",
       "      <th>7</th>\n",
       "      <td>risetogether</td>\n",
       "    </tr>\n",
       "    <tr>\n",
       "      <th>8</th>\n",
       "      <td>airforce1</td>\n",
       "    </tr>\n",
       "    <tr>\n",
       "      <th>9</th>\n",
       "      <td>glorytogod</td>\n",
       "    </tr>\n",
       "    <tr>\n",
       "      <th>10</th>\n",
       "      <td>detroitbasketball</td>\n",
       "    </tr>\n",
       "    <tr>\n",
       "      <th>11</th>\n",
       "      <td>golddontquit</td>\n",
       "    </tr>\n",
       "    <tr>\n",
       "      <th>12</th>\n",
       "      <td>retirement</td>\n",
       "    </tr>\n",
       "    <tr>\n",
       "      <th>13</th>\n",
       "      <td>menhaveskintoo</td>\n",
       "    </tr>\n",
       "    <tr>\n",
       "      <th>14</th>\n",
       "      <td>tmc</td>\n",
       "    </tr>\n",
       "    <tr>\n",
       "      <th>15</th>\n",
       "      <td>tgbtg</td>\n",
       "    </tr>\n",
       "    <tr>\n",
       "      <th>16</th>\n",
       "      <td>happyeaster</td>\n",
       "    </tr>\n",
       "    <tr>\n",
       "      <th>17</th>\n",
       "      <td>holdat</td>\n",
       "    </tr>\n",
       "    <tr>\n",
       "      <th>18</th>\n",
       "      <td>legacy</td>\n",
       "    </tr>\n",
       "    <tr>\n",
       "      <th>19</th>\n",
       "      <td>unfinishedbusiness</td>\n",
       "    </tr>\n",
       "    <tr>\n",
       "      <th>20</th>\n",
       "      <td>ripcity</td>\n",
       "    </tr>\n",
       "    <tr>\n",
       "      <th>21</th>\n",
       "      <td>repost</td>\n",
       "    </tr>\n",
       "    <tr>\n",
       "      <th>22</th>\n",
       "      <td>tbt</td>\n",
       "    </tr>\n",
       "    <tr>\n",
       "      <th>23</th>\n",
       "      <td>puremagic</td>\n",
       "    </tr>\n",
       "    <tr>\n",
       "      <th>24</th>\n",
       "      <td>dame5</td>\n",
       "    </tr>\n",
       "    <tr>\n",
       "      <th>25</th>\n",
       "      <td>nbaplayoffs</td>\n",
       "    </tr>\n",
       "    <tr>\n",
       "      <th>26</th>\n",
       "      <td>gameday</td>\n",
       "    </tr>\n",
       "    <tr>\n",
       "      <th>27</th>\n",
       "      <td>spurs</td>\n",
       "    </tr>\n",
       "    <tr>\n",
       "      <th>28</th>\n",
       "      <td>gobeyond</td>\n",
       "    </tr>\n",
       "    <tr>\n",
       "      <th>29</th>\n",
       "      <td>theresurgence</td>\n",
       "    </tr>\n",
       "    <tr>\n",
       "      <th>...</th>\n",
       "      <td>...</td>\n",
       "    </tr>\n",
       "    <tr>\n",
       "      <th>1473</th>\n",
       "      <td>unguardable</td>\n",
       "    </tr>\n",
       "    <tr>\n",
       "      <th>1474</th>\n",
       "      <td>BlackTwitter</td>\n",
       "    </tr>\n",
       "    <tr>\n",
       "      <th>1475</th>\n",
       "      <td>GreenCentury</td>\n",
       "    </tr>\n",
       "    <tr>\n",
       "      <th>1476</th>\n",
       "      <td>CapsCanes</td>\n",
       "    </tr>\n",
       "    <tr>\n",
       "      <th>1477</th>\n",
       "      <td>Elite8</td>\n",
       "    </tr>\n",
       "    <tr>\n",
       "      <th>1478</th>\n",
       "      <td>Elite8</td>\n",
       "    </tr>\n",
       "    <tr>\n",
       "      <th>1479</th>\n",
       "      <td>gametime</td>\n",
       "    </tr>\n",
       "    <tr>\n",
       "      <th>1480</th>\n",
       "      <td>TeamGiannis</td>\n",
       "    </tr>\n",
       "    <tr>\n",
       "      <th>1481</th>\n",
       "      <td>TeamGiannis</td>\n",
       "    </tr>\n",
       "    <tr>\n",
       "      <th>1482</th>\n",
       "      <td>ABALiga</td>\n",
       "    </tr>\n",
       "    <tr>\n",
       "      <th>1483</th>\n",
       "      <td>ABALiga</td>\n",
       "    </tr>\n",
       "    <tr>\n",
       "      <th>1484</th>\n",
       "      <td>ABALiga</td>\n",
       "    </tr>\n",
       "    <tr>\n",
       "      <th>1485</th>\n",
       "      <td>justAKidFromChicago</td>\n",
       "    </tr>\n",
       "    <tr>\n",
       "      <th>1486</th>\n",
       "      <td>gositdown</td>\n",
       "    </tr>\n",
       "    <tr>\n",
       "      <th>1487</th>\n",
       "      <td>LaMarcusAldridge</td>\n",
       "    </tr>\n",
       "    <tr>\n",
       "      <th>1488</th>\n",
       "      <td>HowHungryAreYou</td>\n",
       "    </tr>\n",
       "    <tr>\n",
       "      <th>1489</th>\n",
       "      <td>SQUAD</td>\n",
       "    </tr>\n",
       "    <tr>\n",
       "      <th>1490</th>\n",
       "      <td>LongLiveNip</td>\n",
       "    </tr>\n",
       "    <tr>\n",
       "      <th>1491</th>\n",
       "      <td>GameofThrones</td>\n",
       "    </tr>\n",
       "    <tr>\n",
       "      <th>1492</th>\n",
       "      <td>tmc</td>\n",
       "    </tr>\n",
       "    <tr>\n",
       "      <th>1493</th>\n",
       "      <td>tmc</td>\n",
       "    </tr>\n",
       "    <tr>\n",
       "      <th>1494</th>\n",
       "      <td>tmc</td>\n",
       "    </tr>\n",
       "    <tr>\n",
       "      <th>1495</th>\n",
       "      <td>tmc</td>\n",
       "    </tr>\n",
       "    <tr>\n",
       "      <th>1496</th>\n",
       "      <td>tmc</td>\n",
       "    </tr>\n",
       "    <tr>\n",
       "      <th>1497</th>\n",
       "      <td>MAACChampionship</td>\n",
       "    </tr>\n",
       "    <tr>\n",
       "      <th>1498</th>\n",
       "      <td>MarchMadness2019</td>\n",
       "    </tr>\n",
       "    <tr>\n",
       "      <th>1499</th>\n",
       "      <td>HighFlyingBird</td>\n",
       "    </tr>\n",
       "    <tr>\n",
       "      <th>1500</th>\n",
       "      <td>AutismAwareness</td>\n",
       "    </tr>\n",
       "    <tr>\n",
       "      <th>1501</th>\n",
       "      <td>Family</td>\n",
       "    </tr>\n",
       "    <tr>\n",
       "      <th>1502</th>\n",
       "      <td>NBAPlayoffs</td>\n",
       "    </tr>\n",
       "  </tbody>\n",
       "</table>\n",
       "<p>1503 rows × 1 columns</p>\n",
       "</div>"
      ],
      "text/plain": [
       "              Initail hashtag\n",
       "0                risetogether\n",
       "1                marchmadness\n",
       "2     beststeakhousehandsdown\n",
       "3                    historic\n",
       "4                      str8up\n",
       "5           detroitbasketball\n",
       "6              ripnipthegreat\n",
       "7                risetogether\n",
       "8                   airforce1\n",
       "9                  glorytogod\n",
       "10          detroitbasketball\n",
       "11               golddontquit\n",
       "12                 retirement\n",
       "13             menhaveskintoo\n",
       "14                        tmc\n",
       "15                      tgbtg\n",
       "16                happyeaster\n",
       "17                     holdat\n",
       "18                     legacy\n",
       "19         unfinishedbusiness\n",
       "20                    ripcity\n",
       "21                     repost\n",
       "22                        tbt\n",
       "23                  puremagic\n",
       "24                      dame5\n",
       "25                nbaplayoffs\n",
       "26                    gameday\n",
       "27                      spurs\n",
       "28                   gobeyond\n",
       "29              theresurgence\n",
       "...                       ...\n",
       "1473              unguardable\n",
       "1474             BlackTwitter\n",
       "1475             GreenCentury\n",
       "1476                CapsCanes\n",
       "1477                   Elite8\n",
       "1478                   Elite8\n",
       "1479                 gametime\n",
       "1480              TeamGiannis\n",
       "1481              TeamGiannis\n",
       "1482                  ABALiga\n",
       "1483                  ABALiga\n",
       "1484                  ABALiga\n",
       "1485      justAKidFromChicago\n",
       "1486                gositdown\n",
       "1487         LaMarcusAldridge\n",
       "1488          HowHungryAreYou\n",
       "1489                    SQUAD\n",
       "1490              LongLiveNip\n",
       "1491            GameofThrones\n",
       "1492                      tmc\n",
       "1493                      tmc\n",
       "1494                      tmc\n",
       "1495                      tmc\n",
       "1496                      tmc\n",
       "1497         MAACChampionship\n",
       "1498         MarchMadness2019\n",
       "1499           HighFlyingBird\n",
       "1500          AutismAwareness\n",
       "1501                   Family\n",
       "1502              NBAPlayoffs\n",
       "\n",
       "[1503 rows x 1 columns]"
      ]
     },
     "execution_count": 73,
     "metadata": {},
     "output_type": "execute_result"
    }
   ],
   "source": [
    "test_df2 = pd.DataFrame({\"Initail hashtag\":igList,\n",
    "                        \n",
    "                        })\n",
    "test_df2"
   ]
  },
  {
   "cell_type": "code",
   "execution_count": 74,
   "metadata": {},
   "outputs": [],
   "source": [
    "test_df.to_csv('category.csv')\n",
    "test_df1.to_csv('synonyms.csv')\n",
    "test_df2.to_csv('domain_tag.csv')"
   ]
  },
  {
   "cell_type": "code",
   "execution_count": 36,
   "metadata": {},
   "outputs": [],
   "source": [
    "test_df.to_csv('category.csv')"
   ]
  },
  {
   "cell_type": "markdown",
   "metadata": {},
   "source": [
    "Citations\n",
    "1.\thttps://github.com/nikbearbrown/INFO_6210/blob/master/Week_2/NBB_IMDB_Web_Scraper.ipynb\n",
    "2.\thttps://github.com/danielfrg/espn-nba-scrapy/blob/master/src/scrap/get_players.py\n",
    "3.\thttp://www.gregreda.com/2015/02/15/web-scraping-finding-the-api/\n",
    "4.\thttp://savvastjortjoglou.com/nba-shot-sharts.html\n",
    "5.\thttps://instaloader.github.io/index.html\n",
    "6.\thttps://sebastianraschka.com/Articles/2014_sqlite_in_python_tutorial.html\n",
    "7.\thttp://www.dcs.bbk.ac.uk/~ptw/teaching/DBM/er.pdf\n",
    "8.\thttps://www.dataquest.io/blog/python-pandas-databases/\n",
    "9.\thttps://github.com/nikbearbrown/INFO_6210/tree/master/Lahmans_Baseball_Database\n"
   ]
  },
  {
   "cell_type": "markdown",
   "metadata": {},
   "source": [
    "Contribution\n",
    "This assignment is 100% done by Yuning Song, and 5% of the information and code that help me to do this assignment are from the Internet as the citations shown."
   ]
  },
  {
   "cell_type": "markdown",
   "metadata": {},
   "source": [
    "License\n",
    "Copyright 2019 \n",
    "Permission is hereby granted, free of charge, to any person obtaining a copy of this software and associated documentation files (the \"Software\"), to deal in the Software without restriction, including without limitation the rights to use, copy, modify, merge, publish, distribute, sublicense, and/or sell copies of the Software, and to permit persons to whom the Software is furnished to do so, subject to the following conditions:\n",
    "The above copyright notice and this permission notice shall be included in all copies or substantial portions of the Software.\n",
    "THE SOFTWARE IS PROVIDED \"AS IS\", WITHOUT WARRANTY OF ANY KIND, EXPRESS OR IMPLIED, INCLUDING BUT NOT LIMITED TO THE WARRANTIES OF MERCHANTABILITY, FITNESS FOR A PARTICULAR PURPOSE AND NONINFRINGEMENT. IN NO EVENT SHALL THE AUTHORS OR COPYRIGHT HOLDERS BE LIABLE FOR ANY CLAIM, DAMAGES OR OTHER LIABILITY, WHETHER IN AN ACTION OF CONTRACT, TORT OR OTHERWISE, ARISING FROM, OUT OF OR IN CONNECTION WITH THE SOFTWARE OR THE USE OR OTHER DEALINGS IN THE SOFTWARE."
   ]
  },
  {
   "cell_type": "code",
   "execution_count": null,
   "metadata": {},
   "outputs": [],
   "source": []
  }
 ],
 "metadata": {
  "kernelspec": {
   "display_name": "Python 3",
   "language": "python",
   "name": "python3"
  },
  "language_info": {
   "codemirror_mode": {
    "name": "ipython",
    "version": 3
   },
   "file_extension": ".py",
   "mimetype": "text/x-python",
   "name": "python",
   "nbconvert_exporter": "python",
   "pygments_lexer": "ipython3",
   "version": "3.7.1"
  }
 },
 "nbformat": 4,
 "nbformat_minor": 2
}
