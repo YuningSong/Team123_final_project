{
 "cells": [
  {
   "cell_type": "markdown",
   "metadata": {},
   "source": [
    "## Import twitter_most table"
   ]
  },
  {
   "cell_type": "code",
   "execution_count": 1,
   "metadata": {},
   "outputs": [],
   "source": [
    "import pandas as pd"
   ]
  },
  {
   "cell_type": "markdown",
   "metadata": {},
   "source": [
    "### Read the CSV file"
   ]
  },
  {
   "cell_type": "code",
   "execution_count": 2,
   "metadata": {},
   "outputs": [],
   "source": [
    "tm_csv=pd.read_csv(\"twitter_most.csv\")"
   ]
  },
  {
   "cell_type": "markdown",
   "metadata": {},
   "source": [
    "### Transfer CSV file to Pandas Dataframe"
   ]
  },
  {
   "cell_type": "code",
   "execution_count": 3,
   "metadata": {},
   "outputs": [],
   "source": [
    "tm_df = pd.DataFrame(tm_csv)"
   ]
  },
  {
   "cell_type": "code",
   "execution_count": 4,
   "metadata": {},
   "outputs": [],
   "source": [
    "tm_df=tm_df.astype(object,int)"
   ]
  },
  {
   "cell_type": "code",
   "execution_count": 5,
   "metadata": {},
   "outputs": [],
   "source": [
    "import sqlite3"
   ]
  },
  {
   "cell_type": "markdown",
   "metadata": {},
   "source": [
    "### Create the sqlite3 database file and build the connection and cursor"
   ]
  },
  {
   "cell_type": "code",
   "execution_count": 6,
   "metadata": {},
   "outputs": [],
   "source": [
    "db1 = '/Users/rachealchen/Documents/jupyter/6210FinalProject/UPF/twitter_most.db' \n",
    "conn1 = sqlite3.connect(db1) \n",
    "c1 = conn1.cursor()"
   ]
  },
  {
   "cell_type": "markdown",
   "metadata": {},
   "source": [
    "### Build table in databse"
   ]
  },
  {
   "cell_type": "code",
   "execution_count": 7,
   "metadata": {},
   "outputs": [],
   "source": [
    "tm_df.to_sql('twitter_most',             # Name of the table.\n",
    "            con=conn1,                    # The handle to the file that is set up.\n",
    "            if_exists='replace',         # Overwrite, append, or fail.\n",
    "            )                           #include index"
   ]
  },
  {
   "cell_type": "markdown",
   "metadata": {},
   "source": [
    "### Check the cloumns in the table"
   ]
  },
  {
   "cell_type": "code",
   "execution_count": 8,
   "metadata": {},
   "outputs": [
    {
     "name": "stdout",
     "output_type": "stream",
     "text": [
      "(0, 'index', 'INTEGER', 0, None, 0)\n",
      "(1, 'userid', 'REAL', 0, None, 0)\n",
      "(2, 'mostPopHashtag1', 'TEXT', 0, None, 0)\n",
      "(3, 'mostPopHashtag2', 'TEXT', 0, None, 0)\n",
      "(4, 'mostPopHashtag3', 'TEXT', 0, None, 0)\n",
      "(5, 'mostPopHashtag4', 'TEXT', 0, None, 0)\n",
      "(6, 'mostPopHashtag5', 'TEXT', 0, None, 0)\n",
      "(7, 'mostPopPost', 'TEXT', 0, None, 0)\n",
      "6\n"
     ]
    }
   ],
   "source": [
    "for row in conn1.execute(\"pragma table_info('twitter_most')\").fetchall():\n",
    "    print (row)\n",
    "print(len(row))"
   ]
  },
  {
   "cell_type": "markdown",
   "metadata": {},
   "source": [
    "## Import twitter_post table"
   ]
  },
  {
   "cell_type": "markdown",
   "metadata": {},
   "source": [
    "### Read the CSV file"
   ]
  },
  {
   "cell_type": "code",
   "execution_count": 9,
   "metadata": {},
   "outputs": [],
   "source": [
    "tp_csv=pd.read_csv(\"twitter_post.csv\")"
   ]
  },
  {
   "cell_type": "markdown",
   "metadata": {},
   "source": [
    "### Transfer CSV file to Pandas Dataframe"
   ]
  },
  {
   "cell_type": "code",
   "execution_count": 10,
   "metadata": {},
   "outputs": [],
   "source": [
    "tp_df = pd.DataFrame(tp_csv)"
   ]
  },
  {
   "cell_type": "code",
   "execution_count": 11,
   "metadata": {},
   "outputs": [],
   "source": [
    "tp_df=tp_df.astype(object,int)"
   ]
  },
  {
   "cell_type": "markdown",
   "metadata": {},
   "source": [
    "### Create the sqlite3 database file and build the connection and cursor"
   ]
  },
  {
   "cell_type": "code",
   "execution_count": 12,
   "metadata": {},
   "outputs": [],
   "source": [
    "db2 = '/Users/rachealchen/Documents/jupyter/6210FinalProject/UPF/twitter_post.db' \n",
    "conn2 = sqlite3.connect(db2) \n",
    "c2 = conn2.cursor()"
   ]
  },
  {
   "cell_type": "markdown",
   "metadata": {},
   "source": [
    "### Build table in databse"
   ]
  },
  {
   "cell_type": "code",
   "execution_count": 13,
   "metadata": {},
   "outputs": [],
   "source": [
    "tp_df.to_sql('twitter_post',             # Name of the table.\n",
    "            con=conn2,                    # The handle to the file that is set up.\n",
    "            if_exists='replace',         # Overwrite, append, or fail.\n",
    "            )                           #include index"
   ]
  },
  {
   "cell_type": "markdown",
   "metadata": {},
   "source": [
    "### Check the cloumns in the table"
   ]
  },
  {
   "cell_type": "code",
   "execution_count": 14,
   "metadata": {},
   "outputs": [
    {
     "name": "stdout",
     "output_type": "stream",
     "text": [
      "(0, 'index', 'INTEGER', 0, None, 0)\n",
      "(1, 'Post_Id', 'REAL', 0, None, 0)\n",
      "(2, 'Userid', 'REAL', 0, None, 0)\n",
      "(3, 'Time', 'TEXT', 0, None, 0)\n",
      "(4, 'Caption', 'TEXT', 0, None, 0)\n",
      "(5, 'Likes', 'INTEGER', 0, None, 0)\n",
      "(6, 'Name', 'TEXT', 0, None, 0)\n",
      "(7, 'Comments', 'TEXT', 0, None, 0)\n",
      "6\n"
     ]
    }
   ],
   "source": [
    "for row in conn2.execute(\"pragma table_info('twitter_post')\").fetchall():\n",
    "    print (row)\n",
    "print(len(row))"
   ]
  },
  {
   "cell_type": "markdown",
   "metadata": {},
   "source": [
    "## Import twitter_profile table"
   ]
  },
  {
   "cell_type": "markdown",
   "metadata": {},
   "source": [
    "### Read the CSV file"
   ]
  },
  {
   "cell_type": "code",
   "execution_count": 15,
   "metadata": {},
   "outputs": [],
   "source": [
    "t_pro_csv = pd.read_csv(\"twitter_profile.csv\")"
   ]
  },
  {
   "cell_type": "markdown",
   "metadata": {},
   "source": [
    "### Transfer CSV file to Pandas Dataframe"
   ]
  },
  {
   "cell_type": "code",
   "execution_count": 16,
   "metadata": {},
   "outputs": [],
   "source": [
    "t_pro_df = pd.DataFrame(t_pro_csv)"
   ]
  },
  {
   "cell_type": "code",
   "execution_count": 17,
   "metadata": {},
   "outputs": [],
   "source": [
    "t_pro_df=t_pro_df.astype(object,int)"
   ]
  },
  {
   "cell_type": "markdown",
   "metadata": {},
   "source": [
    "### Create the sqlite3 database file and build the connection and cursor"
   ]
  },
  {
   "cell_type": "code",
   "execution_count": 18,
   "metadata": {},
   "outputs": [],
   "source": [
    "db3 = '/Users/rachealchen/Documents/jupyter/6210FinalProject/UPF/Twitter_Profile.db' \n",
    "conn3 = sqlite3.connect(db3) \n",
    "c3 = conn3.cursor()"
   ]
  },
  {
   "cell_type": "markdown",
   "metadata": {},
   "source": [
    "### Build table in databse"
   ]
  },
  {
   "cell_type": "code",
   "execution_count": 19,
   "metadata": {},
   "outputs": [],
   "source": [
    "t_pro_df.to_sql('twitter_profile',             # Name of the table.\n",
    "            con=conn3,                    # The handle to the file that is set up.\n",
    "            if_exists='replace',         # Overwrite, append, or fail.\n",
    "            )                           #include index"
   ]
  },
  {
   "cell_type": "markdown",
   "metadata": {},
   "source": [
    "### Check the cloumns in the table"
   ]
  },
  {
   "cell_type": "code",
   "execution_count": 20,
   "metadata": {},
   "outputs": [
    {
     "name": "stdout",
     "output_type": "stream",
     "text": [
      "(0, 'index', 'INTEGER', 0, None, 0)\n",
      "(1, 'Player_ID', 'INTEGER', 0, None, 0)\n",
      "(2, 'Name', 'TEXT', 0, None, 0)\n",
      "(3, 'Screen_name', 'TEXT', 0, None, 0)\n",
      "(4, 'ID', 'INTEGER', 0, None, 0)\n",
      "(5, 'Bio', 'TEXT', 0, None, 0)\n",
      "(6, 'Url', 'TEXT', 0, None, 0)\n",
      "(7, 'Posts', 'INTEGER', 0, None, 0)\n",
      "(8, 'Followers', 'INTEGER', 0, None, 0)\n",
      "(9, 'Friends', 'INTEGER', 0, None, 0)\n",
      "6\n"
     ]
    }
   ],
   "source": [
    "for row in conn3.execute(\"pragma table_info('twitter_profile')\").fetchall():\n",
    "    print (row)\n",
    "print(len(row))"
   ]
  },
  {
   "cell_type": "markdown",
   "metadata": {},
   "source": [
    "## Usecases Started"
   ]
  },
  {
   "cell_type": "markdown",
   "metadata": {},
   "source": [
    "### 1. Select inactive player in twitter, player information show as userid."
   ]
  },
  {
   "cell_type": "code",
   "execution_count": 21,
   "metadata": {},
   "outputs": [
    {
     "data": {
      "text/plain": [
       "[(466852270.0,),\n",
       " (1067020626.0,),\n",
       " (135323628.0,),\n",
       " (1538825629.0,),\n",
       " (416120361.0,),\n",
       " (76809678.0,),\n",
       " (130939593.0,),\n",
       " (7.57288e+17,),\n",
       " (273532957.0,),\n",
       " (40779444.0,),\n",
       " (269552973.0,),\n",
       " (37534613.0,),\n",
       " (2232325386.0,),\n",
       " (205771054.0,),\n",
       " (61604894.0,),\n",
       " (202893625.0,),\n",
       " (33995409.0,),\n",
       " (302111485.0,),\n",
       " (131009726.0,),\n",
       " (341567459.0,),\n",
       " (9.0492e+17,),\n",
       " (935368368.0,),\n",
       " (73457606.0,),\n",
       " (480847192.0,),\n",
       " (119504238.0,),\n",
       " (356408195.0,),\n",
       " (38026892.0,),\n",
       " (234811698.0,),\n",
       " (238653226.0,),\n",
       " (353594343.0,),\n",
       " (281405595.0,),\n",
       " (270689028.0,),\n",
       " (226257592.0,),\n",
       " (29356531.0,),\n",
       " (162041294.0,),\n",
       " (23083404.0,),\n",
       " (114836738.0,),\n",
       " (59297233.0,),\n",
       " (163559269.0,),\n",
       " (64949907.0,),\n",
       " (150846769.0,),\n",
       " (2790308794.0,),\n",
       " (135773677.0,),\n",
       " (48203492.0,),\n",
       " (37367041.0,),\n",
       " (609548724.0,),\n",
       " (165953518.0,),\n",
       " (231335961.0,),\n",
       " (64643728.0,),\n",
       " (119135103.0,),\n",
       " (47218790.0,),\n",
       " (388014562.0,),\n",
       " (291497363.0,),\n",
       " (51625402.0,)]"
      ]
     },
     "execution_count": 21,
     "metadata": {},
     "output_type": "execute_result"
    }
   ],
   "source": [
    "results1 = c1.execute(\"SELECT userid FROM twitter_most where mostPopPost='[]';\")\n",
    "q1=results1.fetchall() \n",
    "q1"
   ]
  },
  {
   "cell_type": "markdown",
   "metadata": {},
   "source": [
    "### 2. Select most popular hashtag related to \"NBA\"."
   ]
  },
  {
   "cell_type": "code",
   "execution_count": 22,
   "metadata": {
    "scrolled": false
   },
   "outputs": [
    {
     "data": {
      "text/plain": [
       "[('NBAPlayoffs',),\n",
       " ('NBAPlayoffs',),\n",
       " ('NBATwitterLive',),\n",
       " ('NBAPlayoffs',),\n",
       " ('NBACommunityAssist',),\n",
       " ('NBAse',),\n",
       " ('NBAse',),\n",
       " ('NBAse',),\n",
       " ('NBAse',),\n",
       " ('NBAse',),\n",
       " ('NBATwitterLive',),\n",
       " ('nba',),\n",
       " ('NBAPlayoffs',),\n",
       " ('NBAAllStar',),\n",
       " ('NBAAllStar',),\n",
       " ('NBAAllStar',),\n",
       " ('NBAAllStar',)]"
      ]
     },
     "execution_count": 22,
     "metadata": {},
     "output_type": "execute_result"
    }
   ],
   "source": [
    "results2 = c1.execute(\"SELECT mostPopHashtag1 FROM twitter_most where mostPopHashtag1 like '%NBA%';\")\n",
    "q2=results2.fetchall() \n",
    "q2"
   ]
  },
  {
   "cell_type": "markdown",
   "metadata": {},
   "source": [
    "### 3. Select target user (show as userid) for who's most recent post is uploaded in March."
   ]
  },
  {
   "cell_type": "code",
   "execution_count": 23,
   "metadata": {},
   "outputs": [
    {
     "data": {
      "text/plain": [
       "[(373677327.0,),\n",
       " (159113258.0,),\n",
       " (142138363.0,),\n",
       " (364970961.0,),\n",
       " (70926844.0,),\n",
       " (205771054.0,),\n",
       " (116485600.0,),\n",
       " (58673299.0,),\n",
       " (281405595.0,),\n",
       " (47635525.0,),\n",
       " (162749920.0,),\n",
       " (153133853.0,),\n",
       " (54780126.0,)]"
      ]
     },
     "execution_count": 23,
     "metadata": {},
     "output_type": "execute_result"
    }
   ],
   "source": [
    "results3 = c2.execute(\"SELECT Userid FROM twitter_post where Time like '%/3/%';\")\n",
    "q3=results3.fetchall() \n",
    "q3"
   ]
  },
  {
   "cell_type": "markdown",
   "metadata": {},
   "source": [
    "### 4. Select post content may talking about game winning. Output is sorting by post time in descending order."
   ]
  },
  {
   "cell_type": "code",
   "execution_count": 24,
   "metadata": {},
   "outputs": [
    {
     "data": {
      "text/plain": [
       "[('Bro that might be the COLDEST game winner I__e ever seen ______ Dame is an absolute MONSTER!',),\n",
       " ('#great #wintonight #yallaherzliya @winnerleague #from #thereason https://t.co/ZOxscYpxED',),\n",
       " ('Congratulations @BrookeHenderson on winning the LPGA Lotte Championship Back 2 Back Years!     ________',),\n",
       " ('Great home win!! @CBBreogan we heard you tonight!!!!!',),\n",
       " ('@kingkirk53 We didn__ win enough games I guess __',),\n",
       " ('Y__ll think men can just use hotel soap and win? Step up your game with @OldSpice Moisturize with Shea Butter body_ https://t.co/1MX8OAIma5',),\n",
       " ('RT @cassiuswinston: Crazy _¤ï_____ https://t.co/uGoHgfPFJJ',),\n",
       " (\"RT @Santa_Vol: The last time the Vols were in the Sweet 16 Jarnell Stokes helped get them there!  If you'd like to win this card autographe_\",)]"
      ]
     },
     "execution_count": 24,
     "metadata": {},
     "output_type": "execute_result"
    }
   ],
   "source": [
    "results4 = c2.execute(\"SELECT Caption FROM twitter_post where Caption like '%win%' ORDER BY Time DESC ;\")\n",
    "q4=results4.fetchall() \n",
    "q4"
   ]
  },
  {
   "cell_type": "markdown",
   "metadata": {},
   "source": [
    "### 5. Select the top five favorite player."
   ]
  },
  {
   "cell_type": "code",
   "execution_count": 25,
   "metadata": {},
   "outputs": [
    {
     "data": {
      "text/plain": [
       "[('LeBron James',),\n",
       " ('Kevin Durant',),\n",
       " ('Kobe Bryant',),\n",
       " ('Stephen Curry',),\n",
       " ('Carmelo Anthony',)]"
      ]
     },
     "execution_count": 25,
     "metadata": {},
     "output_type": "execute_result"
    }
   ],
   "source": [
    "results5 = c3.execute(\"SELECT Name FROM twitter_profile ORDER BY Followers DESC LIMIT 5 ;\")\n",
    "q5=results5.fetchall()\n",
    "q5"
   ]
  },
  {
   "cell_type": "code",
   "execution_count": null,
   "metadata": {},
   "outputs": [],
   "source": []
  },
  {
   "cell_type": "code",
   "execution_count": null,
   "metadata": {},
   "outputs": [],
   "source": []
  }
 ],
 "metadata": {
  "kernelspec": {
   "display_name": "Python 3",
   "language": "python",
   "name": "python3"
  },
  "language_info": {
   "codemirror_mode": {
    "name": "ipython",
    "version": 3
   },
   "file_extension": ".py",
   "mimetype": "text/x-python",
   "name": "python",
   "nbconvert_exporter": "python",
   "pygments_lexer": "ipython3",
   "version": "3.7.1"
  }
 },
 "nbformat": 4,
 "nbformat_minor": 2
}
